{
 "cells": [
  {
   "cell_type": "markdown",
   "metadata": {},
   "source": [
    "# Tutorial: Real-Time Anomaly Detection with the Heston Model\n",
    "\n",
    "This notebook demonstrates how to use the DRR framework for real-time anomaly detection on financial data simulated with the Heston model."
   ]
  },
  {
   "cell_type": "code",
   "execution_count": null,
   "metadata": {},
   "outputs": [],
   "source": [
    "import numpy as np\n",
    "import matplotlib.pyplot as plt\n",
    "import pandas as pd\n",
    "from drr_framework.benchmarks import BenchmarkSystems\n",
    "from drr_framework.realtime import RealTimeDRR\n",
    "\n",
    "plt.style.use('seaborn-v0_8-whitegrid')"
   ]
  },
  {
   "cell_type": "markdown",
   "metadata": {},
   "source": [
    "## 1. Generate Heston Model Data\n",
    "\n",
    "First, we generate a dataset using the Heston model, which simulates stock price and its stochastic volatility."
   ]
  },
  {
   "cell_type": "code",
   "execution_count": null,
   "metadata": {},
   "outputs": [],
   "source": [
    "duration = 252  # 1 year of trading days\n",
    "dt = 1/252\n",
    "t, heston_data = BenchmarkSystems.generate_heston_data(duration=duration, dt=dt)\n",
    "stock_price = heston_data[:, 0]\n",
    "volatility = heston_data[:, 1]"
   ]
  },
  {
   "cell_type": "markdown",
   "metadata": {},
   "source": [
    "## 2. Visualize the Data"
   ]
  },
  {
   "cell_type": "code",
   "execution_count": null,
   "metadata": {},
   "outputs": [],
   "source": [
    "fig, ax1 = plt.subplots(figsize=(12, 6))\n",
    "\n",
    "color = 'tab:blue'\n",
    "ax1.set_xlabel('Time (days)')\n",
    "ax1.set_ylabel('Stock Price', color=color)\n",
    "ax1.plot(t, stock_price, color=color)\n",
    "ax1.tick_params(axis='y', labelcolor=color)\n",
    "\n",
    "ax2 = ax1.twinx()\n",
    "color = 'tab:red'\n",
    "ax2.set_ylabel('Volatility', color=color)\n",
    "ax2.plot(t, volatility, color=color)\n",
    "ax2.tick_params(axis='y', labelcolor=color)\n",
    "\n",
    "fig.tight_layout()\n",
    "plt.title('Heston Model: Stock Price and Volatility')\n",
    "plt.show()"
   ]
  },
  {
   "cell_type": "markdown",
   "metadata": {},
   "source": [
    "## 3. Real-Time Anomaly Detection\n",
    "\n",
    "Now, we'll process the data in a simulated real-time stream and detect anomalies in the volatility."
   ]
  },
  {
   "cell_type": "code",
   "execution_count": null,
   "metadata": {},
   "outputs": [],
   "source": [
    "window_size = 30\n",
    "n_variables = 2\n",
    "threshold = 0.02 # Anomaly threshold for volatility\n",
    "\n",
    "rt_drr = RealTimeDRR(window_size=window_size, n_variables=n_variables, threshold=threshold)\n",
    "\n",
    "results = []\n",
    "for i in range(len(heston_data)):\n",
    "    result = rt_drr.process_data_point(heston_data[i])\n",
    "    if result:\n",
    "        results.append(result)"
   ]
  },
  {
   "cell_type": "markdown",
   "metadata": {},
   "source": [
    "## 4. Visualize Anomaly Detection Results"
   ]
  },
  {
   "cell_type": "code",
   "execution_count": null,
   "metadata": {},
   "outputs": [],
   "source": [
    "vol_depth = [r[1]['depth']['resonance_depth'] for r in results]\n",
    "anomalies = [r[1]['anomaly'] for r in results]\n",
    "\n",
    "plt.figure(figsize=(12, 6))\n",
    "plt.plot(t[window_size-1:], vol_depth, label='Volatility Resonance Depth')\n",
    "plt.axhline(y=threshold, color='r', linestyle='--', label='Anomaly Threshold')\n",
    "\n",
    "anomaly_indices = np.where(anomalies)[0] + window_size - 1\n",
    "plt.scatter(t[anomaly_indices], np.array(vol_depth)[np.where(anomalies)], color='red', zorder=5, label='Anomalies')\n",
    "\n",
    "plt.title('Real-Time Anomaly Detection in Volatility')\n",
    "plt.xlabel('Time (days)')\n",
    "plt.ylabel('Resonance Depth (Rolling Std)')\n",
    "plt.legend()\n",
    "plt.show()"
   ]
  }
 ],
 "metadata": {
  "kernelspec": {
   "display_name": "Python 3",
   "language": "python",
   "name": "python3"
  },
  "language_info": {
   "codemirror_mode": {
    "name": "ipython",
    "version": 3
   },
   "file_extension": ".py",
   "mimetype": "text/x-python",
   "name": "python",
   "nbconvert_exporter": "python",
   "pygments_lexer": "ipython3",
   "version": "3.8.5"
  }
 },
 "nbformat": 4,
 "nbformat_minor": 4
}
