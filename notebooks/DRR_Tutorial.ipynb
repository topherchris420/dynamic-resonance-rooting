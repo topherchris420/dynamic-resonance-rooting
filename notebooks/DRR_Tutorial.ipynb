# Import required libraries
import numpy as np
import matplotlib.pyplot as plt
import pandas as pd
# This assumes you have a local drr_framework module.
# If not, you'll need to define these classes or install the package.
# from drr_framework import DynamicResonanceRooting, BenchmarkSystems

# Since the framework code is not provided, we will create dummy classes
# to allow the tutorial code to run without errors.
class DynamicResonanceRooting:
    def __init__(self, embedding_dim, tau, sampling_rate):
        self.embedding_dim = embedding_dim
        self.tau = tau
        self.sampling_rate = sampling_rate
        print(f"DRR Framework initialized with: Embedding dim={embedding_dim}, Tau={tau}, Sampling rate={sampling_rate}Hz")

    def analyze_system(self, data, multivariate=False):
        print("Analyzing system...")
        # Dummy results
        return {
            'resonances': {'dim_0': {'dominant_freq': 1.0}},
            'resonance_depths': {'dim_0': np.random.rand()}
        }
    def detect_resonances(self, data, method='fft'):
        print(f"Detecting resonances with {method} method...")
        # Dummy wavelet results
        return {
            'dim_0': {
                'cwt_matrix': np.random.rand(10, len(data)),
                'frequencies': np.linspace(1, 50, 10)
            }
        }
    def plot_results(self, results, data):
        print("Plotting results...")
        plt.figure(figsize=(10, 4))
        plt.plot(data)
        plt.title("Analysis Plot")
        plt.show()


class BenchmarkSystems:
    @staticmethod
    def generate_lorenz_data(duration=30, dt=0.01, initial_state=[1.0, 1.0, 1.0]):
        print("Generating Lorenz data...")
        n_steps = int(duration/dt)
        xyz = np.zeros((n_steps, 3))
        xyz[0] = initial_state
        sigma, rho, beta = 10, 28, 8/3
        for i in range(n_steps-1):
            x, y, z = xyz[i]
            xyz[i+1] = [
                x + sigma * (y - x) * dt,
                y + (x * (rho - z) - y) * dt,
                z + (x * y - beta * z) * dt,
            ]
        t = np.linspace(0, duration, n_steps)
        return t, xyz

    @staticmethod
    def generate_rossler_data(duration=30, dt=0.01, initial_state=[1.0, 1.0, 1.0]):
        print("Generating Rössler data...")
        n_steps = int(duration/dt)
        xyz = np.zeros((n_steps, 3))
        xyz[0] = initial_state
        a, b, c = 0.2, 0.2, 5.7
        for i in range(n_steps-1):
            x, y, z = xyz[i]
            xyz[i+1] = [
                x + (-y - z) * dt,
                y + (x + a * y) * dt,
                z + (b + z * (x-c)) * dt,
            ]
        t = np.linspace(0, duration, n_steps)
        return t, xyz


# Set up plotting
plt.style.use('default')

# Initialize DRR framework with custom parameters
drr = DynamicResonanceRooting(
    embedding_dim=3,    # Dimension for phase space reconstruction
    tau=10,            # Time delay for embedding
    sampling_rate=100  # Sampling rate of the data
)

# Generate a simple test signal with multiple frequency components
t = np.linspace(0, 10, 1000)
test_signal = (np.sin(2 * np.pi * 1 * t) +      # 1 Hz component
               0.5 * np.sin(2 * np.pi * 3 * t) +  # 3 Hz component
               0.2 * np.random.randn(len(t)))     # Noise

# Plot the test signal
plt.figure(figsize=(12, 4))
plt.plot(t, test_signal)
plt.title('Test Signal with Multiple Frequency Components')
plt.xlabel('Time (s)')
plt.ylabel('Amplitude')
plt.grid(True, alpha=0.3)
plt.show()

# Perform DRR analysis on the test signal
drr_simple = DynamicResonanceRooting(embedding_dim=3, tau=5, sampling_rate=100)
results = drr_simple.analyze_system(test_signal)

print("\nAnalysis Results:")
print(f"Detected resonances: {list(results['resonances'].keys())}")
print(f"Resonance depths: {results['resonance_depths']}")

# Generate Lorenz attractor data
print("\nGenerating Lorenz attractor data...")
t_lorenz, lorenz_data = BenchmarkSystems.generate_lorenz_data(
    duration=30,
    dt=0.01,
    initial_state=[1.0, 1.0, 1.0]
)

print(f"Generated {len(lorenz_data)} data points over {t_lorenz[-1]:.1f} seconds")
print(f"Data shape: {lorenz_data.shape}")

# Visualize the Lorenz attractor
fig = plt.figure(figsize=(15, 5))

# Time series
ax1 = plt.subplot(1, 3, 1)
plt.plot(t_lorenz, lorenz_data[:, 0], 'b-', alpha=0.7, linewidth=0.5)
plt.title('Lorenz X Component')
plt.xlabel('Time')
plt.ylabel('X(t)')
plt.grid(True, alpha=0.3)

# 2D projection
ax2 = plt.subplot(1, 3, 2)
plt.plot(lorenz_data[:, 0], lorenz_data[:, 1],
