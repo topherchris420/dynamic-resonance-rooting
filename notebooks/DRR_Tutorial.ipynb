{
 "cells": [
  {
   "cell_type": "markdown",
   "metadata": {},
   "source": [
    "# Dynamic Resonance Rooting (DRR) Framework Tutorial\n",
    "\n",
    "This notebook demonstrates the Dynamic Resonance Rooting framework for analyzing Complex Adaptive Systems. This updated version includes more detailed explanations and a consistent plotting style to improve clarity and usability."
   ]
  },
  {
   "cell_type": "code",
   "execution_count": null,
   "metadata": {},
   "outputs": [],
   "source": [
    "# Import required libraries\n",
    "import numpy as np\n",
    "import matplotlib.pyplot as plt\n",
    "import pandas as pd\n",
    "# This assumes you have a local drr_framework module.\n",
    "# If not, you'll need to define these classes or install the package.\n",
    "# from drr_framework import DynamicResonanceRooting, BenchmarkSystems\n",
    "\n",
    "# Import the framework modules\n",
    "from drr_framework.modules import ResonanceDetector, RootingAnalyzer, DepthCalculator\n",
    "from drr_framework.benchmarks import BenchmarkSystems\n",
    "from drr_framework.visualizations import plot_results"
    "\n",
    "\n",
    "# Set up a consistent plotting style for the entire notebook\n",
    "plt.style.use('seaborn-v0_8-whitegrid')"
   ]
  }
 ],
 "metadata": {
  "kernelspec": {
   "display_name": "Python 3",
   "language": "python",
   "name": "python3"
  },
  "language_info": {
   "codemirror_mode": {
    "name": "ipython",
    "version": 3
   },
   "file_extension": ".py",
   "mimetype": "text/x-python",
   "name": "python",
   "nbconvert_exporter": "python",
   "pygments_lexer": "ipython3",
   "version": "3.8.5"
  }
 },
 "nbformat": 4,
 "nbformat_minor": 4
}
