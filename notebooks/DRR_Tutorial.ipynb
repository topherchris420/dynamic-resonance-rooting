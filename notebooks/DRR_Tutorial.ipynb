# Import required libraries
import numpy as np
import matplotlib.pyplot as plt
import pandas as pd
# This assumes you have a local drr_framework module.
# If not, you'll need to define these classes or install the package.
# from drr_framework import DynamicResonanceRooting, BenchmarkSystems

# Since the framework code is not provided, we will create dummy classes
# to allow the tutorial code to run without errors.
class DynamicResonanceRooting:
    def __init__(self, embedding_dim, tau, sampling_rate):
        self.embedding_dim = embedding_dim
        self.tau = tau
        self.sampling_rate = sampling_rate
        print(f"DRR Framework initialized with: Embedding dim={embedding_dim}, Tau={tau}, Sampling rate={sampling_rate}Hz")

    def analyze_system(self, data, multivariate=False):
        print("Analyzing system...")
        # Dummy results
        return {
            'resonances': {'dim_0': {'dominant_freq': 1.0}},
            'resonance_depths': {'dim_0': np.random.rand()}
        }
    def detect_resonances(self, data, method='fft'):
        print(f"Detecting resonances with {method} method...")
        # Dummy wavelet results
        return {
            'dim_0': {
                'cwt_matrix': np.random.rand(10, len(data)),
                'frequencies': np.linspace(1, 50, 10)
            }
        }
    def plot_results(self, results, data):
        print("Plotting results...")
        plt.figure(figsize=(10, 4))
        plt.plot(data)
        plt.title("Analysis Plot")
        plt.show()


class BenchmarkSystems:
    @staticmethod
    def generate_lorenz_data(duration=30, dt=0.01, initial_state=[1.0, 1.0, 1.0]):
        print("Generating Lorenz data...")
        n_steps = int(duration/dt)
        xyz = np.zeros((n_steps, 3))
        xyz[0] = initial_state
        sigma, rho, beta = 10, 28, 8/3
        for i in range(n_steps-1):
            x, y, z = xyz[i]
            xyz[i+1] = [
                x + sigma * (y - x) * dt,
                y + (x * (rho - z) - y) * dt,
                z + (x * y - beta * z) * dt,
            ]
        t = np.linspace(0, duration, n_steps)
        return t, xyz

    @staticmethod
    def generate_rossler_data(duration=30, dt=0.01, initial_state=[1.0, 1.0, 1.0]):
        print("Generating Rössler data...")
        n_steps = int(duration/dt)
        xyz = np.zeros((n_steps, 3))
        xyz[0] = initial_state
        a, b, c = 0.2, 0.2, 5.7
        for i in range(n_steps-1):
            x, y, z = xyz[i]
            xyz[i+1] = [
                x + (-y - z) * dt,
                y + (x + a * y) * dt,
                z + (b + z * (x-c)) * dt,
            ]
        t = np.linspace(0, duration, n_steps)
        return t, xyz


# Set up plotting
plt.style.use('default')

# Initialize DRR framework with custom parameters
drr = DynamicResonanceRooting(
    embedding_dim=3,    # Dimension for phase space reconstruction
    tau=10,            # Time delay for embedding
    sampling_rate=100  # Sampling rate of the data
)

# Generate a simple test signal with multiple frequency components
t = np.linspace(0, 10, 1000)
test_signal = (np.sin(2 * np.pi * 1 * t) +      # 1 Hz component
               0.5 * np.sin(2 * np.pi * 3 * t) +  # 3 Hz component
               0.2 * np.random.randn(len(t)))     # Noise

# Plot the test signal
plt.figure(figsize=(12, 4))
plt.plot(t, test_signal)
plt.title('Test Signal with Multiple Frequency Components')
plt.xlabel('Time (s)')
plt.ylabel('Amplitude')
plt.grid(True, alpha=0.3)
plt.show()

# Perform DRR analysis on the test signal
drr_simple = DynamicResonanceRooting(embedding_dim=3, tau=5, sampling_rate=100)
results = drr_simple.analyze_system(test_signal)

print("\nAnalysis Results:")
print(f"Detected resonances: {list(results['resonances'].keys())}")
print(f"Resonance depths: {results['resonance_depths']}")

# Generate Lorenz attractor data
print("\nGenerating Lorenz attractor data...")
t_lorenz, lorenz_data = BenchmarkSystems.generate_lorenz_data(
    duration=30,
    dt=0.01,
    initial_state=[1.0, 1.0, 1.0]
)

print(f"Generated {len(lorenz_data)} data points over {t_lorenz[-1]:.1f} seconds")
print(f"Data shape: {lorenz_data.shape}")

# Visualize the Lorenz attractor
fig = plt.figure(figsize=(15, 5))

# Time series
ax1 = plt.subplot(1, 3, 1)
plt.plot(t_lorenz, lorenz_data[:, 0], 'b-', alpha=0.7, linewidth=0.5)
plt.title('Lorenz X Component')
plt.xlabel('Time')
plt.ylabel('X(t)')
plt.grid(True, alpha=0.3)

# 2D projection
ax2 = plt.subplot(1, 3, 2)
plt.plot(lorenz_data[:, 0], lorenz_data[:, 1], 'r-', alpha=0.6, linewidth=0.3)
plt.title('Lorenz Attractor (X-Y Plane)')
plt.xlabel('X')
plt.ylabel('Y')
plt.grid(True, alpha=0.3)

# 3D visualization
ax3 = plt.subplot(1, 3, 3, projection='3d')
ax3.plot(lorenz_data[:, 0], lorenz_data[:, 1], lorenz_data[:, 2],
         'g-', alpha=0.4, linewidth=0.3)
ax3.set_title('Lorenz Attractor 3D')
ax3.set_xlabel('X')
ax3.set_ylabel('Y')
ax3.set_zlabel('Z')

plt.tight_layout()
plt.show()

# Perform DRR analysis on Lorenz system
print("\n=== Analyzing Lorenz System with DRR ===")
drr_lorenz = DynamicResonanceRooting(embedding_dim=3, tau=10, sampling_rate=100)
lorenz_results = drr_lorenz.analyze_system(lorenz_data, multivariate=True)

print("\nLorenz System Analysis Results:")
print("Resonance Depths:")
for key, depth in lorenz_results['resonance_depths'].items():
    print(f"  {key}: {depth:.6f}")

# Generate and analyze Rössler system
print("\nGenerating Rössler attractor data...")
t_rossler, rossler_data = BenchmarkSystems.generate_rossler_data(
    duration=30,
    dt=0.01,
    initial_state=[1.0, 1.0, 1.0]
)

# Visualize Rössler attractor
fig, axes = plt.subplots(1, 2, figsize=(12, 5))

# 2D projection
axes[0].plot(rossler_data[:, 0], rossler_data[:, 1], 'purple', alpha=0.6, linewidth=0.3)
axes[0].set_title('Rössler Attractor (X-Y Plane)')
axes[0].set_xlabel('X')
axes[0].set_ylabel('Y')
axes[0].grid(True, alpha=0.3)

# Time series
axes[1].plot(t_rossler, rossler_data[:, 0], 'orange', alpha=0.7, linewidth=0.5)
axes[1].set_title('Rössler X Component')
axes[1].set_xlabel('Time')
axes[1].set_ylabel('X(t)')
axes[1].grid(True, alpha=0.3)

plt.tight_layout()
plt.show()

# Analyze Rössler system
print("\n=== Analyzing Rössler System with DRR ===")
drr_rossler = DynamicResonanceRooting(embedding_dim=3, tau=10, sampling_rate=100)
rossler_results = drr_rossler.analyze_system(rossler_data, multivariate=True)

print("\nRössler System Analysis Results:")
print("Resonance Depths:")
for key, depth in rossler_results['resonance_depths'].items():
    print(f"  {key}: {depth:.6f}")


# Create a more complex synthetic dataset mimicking physiological signals
def generate_physiological_signal(duration=60, sampling_rate=250):
    """Generate synthetic physiological-like signal with multiple timescales"""
    t = np.linspace(0, duration, int(duration * sampling_rate))

    # Base cardiac rhythm (~1 Hz)
    cardiac = np.sin(2 * np.pi * 1.2 * t)

    # Respiratory modulation (~0.25 Hz)
    respiratory = 0.3 * np.sin(2 * np.pi * 0.25 * t)

    # High frequency noise
    hf_noise = 0.1 * np.random.randn(len(t))

    # Low frequency drift
    lf_drift = 0.2 * np.sin(2 * np.pi * 0.05 * t)

    # Combine components
    signal = cardiac + respiratory + hf_noise + lf_drift

    # Add occasional "events" (like arrhythmias)
    event_times = np.random.choice(len(t), size=5, replace=False)
    for event_time in event_times:
        if event_time < len(t) - 50:
            signal[event_time:event_time+50] *= 1.5  # Brief amplitude change

    return t, signal


# Generate physiological-like data
t_physio, physio_signal = generate_physiological_signal(duration=30, sampling_rate=100)

# Plot the signal
plt.figure(figsize=(15, 4))
plt.plot(t_physio, physio_signal, 'darkblue', alpha=0.7, linewidth=0.5)
plt.title('Synthetic Physiological Signal')
plt.xlabel('Time (s)')
plt.ylabel('Amplitude')
plt.grid(True, alpha=0.3)
plt.show()

# Analyze the physiological signal
print("\n=== Analyzing Synthetic Physiological Signal ===")
drr_physio = DynamicResonanceRooting(embedding_dim=3, tau=5, sampling_rate=100)
physio_results = drr_physio.analyze_system(physio_signal)

print("\nPhysiological Signal Analysis Results:")
print("Resonance Depths:")
for key, depth in physio_results['resonance_depths'].items():
    print(f"  {key}: {depth:.6f}")

# Plot detailed results
drr_physio.plot_results(physio_results, physio_signal)

# Demonstrate wavelet-based resonance detection
print("\nPerforming wavelet-based resonance detection...")
wavelet_resonances = drr_physio.detect_resonances(physio_signal, method='wavelet')

# Plot time-frequency representation
if 'dim_0' in wavelet_resonances and 'cwt_matrix' in wavelet_resonances['dim_0']:
    cwt_matrix = wavelet_resonances['dim_0']['cwt_matrix']
    frequencies = wavelet_resonances['dim_0']['frequencies']

    plt.figure(figsize=(12, 6))
    plt.imshow(np.abs(cwt_matrix), aspect='auto', origin='lower',
               extent=[0, t_physio[-1], frequencies[0], frequencies[-1]])
    plt.colorbar(label='Magnitude')
    plt.ylabel('Frequency (Hz)')
    plt.xlabel('Time (s)')
    plt.title('Wavelet Transform - Time-Frequency Analysis')
    plt.yscale('log')
    plt.show()


# Test sensitivity to embedding parameters
embedding_dims = [2, 3, 4, 5]
tau_values = [1, 5, 10, 15]

sensitivity_results = {}

print("\nPerforming parameter sensitivity analysis...")
for emb_dim in embedding_dims:
    for tau in tau_values:
        drr_test = DynamicResonanceRooting(embedding_dim=emb_dim, tau=tau, sampling_rate=100)

        # Use a subset of Lorenz data for faster computation
        test_data = lorenz_data[:1000, 0]  # Just X component
        results = drr_test.analyze_system(test_data)

        # Store average resonance depth
        avg_depth = np.mean(list(results['resonance_depths'].values()))
        sensitivity_results[(emb_dim, tau)] = avg_depth

# Create sensitivity heatmap
sensitivity_matrix = np.zeros((len(embedding_dims), len(tau_values)))
for i, emb_dim in enumerate(embedding_dims):
    for j, tau in enumerate(tau_values):
        sensitivity_matrix[i, j] = sensitivity_results[(emb_dim, tau)]

plt.figure(figsize=(8, 6))
plt.imshow(sensitivity_matrix, aspect='auto', origin='lower')
plt.colorbar(label='Average Resonance Depth')
plt.xlabel('Tau Index')
plt.ylabel('Embedding Dimension Index')
plt.title('Parameter Sensitivity Analysis')
plt.xticks(range(len(tau_values)), tau_values)
plt.yticks(range(len(embedding_dims)), embedding_dims)
plt.show()

print("\nOptimal parameters (highest average resonance depth):")
optimal_params = max(sensitivity_results.items(), key=lambda x: x[1])
print(f"Embedding dimension: {optimal_params[0][0]}, Tau: {optimal_params[0][1]}")
print(f"Average resonance depth: {optimal_params[1]:.6f}")

# Compare resonance depths across different systems
systems = ['Lorenz', 'Rössler', 'Physiological']
results_list = [lorenz_results, rossler_results, physio_results]

# Extract average resonance depths
avg_depths = []
for results in results_list:
    depths = list(results['resonance_depths'].values())
    avg_depths.append(np.mean(depths))

# Create comparison plot
plt.figure(figsize=(10, 6))
bars = plt.bar(systems, avg_depths, color=['blue', 'red', 'green'], alpha=0.7)
plt.ylabel('Average Resonance Depth')
plt.title('System Stability Comparison')
plt.grid(True, alpha=0.3)

# Add value labels on bars
for i, (bar, depth) in enumerate(zip(bars, avg_depths)):
    plt.text(bar.get_x() + bar.get_width()/2, bar.get_height() + 0.001,
             f'{depth:.4f}', ha='center', va='bottom')

plt.show()

print("\nSystem Stability Ranking (by average resonance depth):")
system_ranking = sorted(zip(systems, avg_depths), key=lambda x: x[1], reverse=True)
for i, (system, depth) in enumerate(system_ranking, 1):
    print(f"{i}. {system}: {depth:.6f}")


# Simulate a system approaching a critical transition
def simulate_approaching_transition(duration=50, transition_point=40):
    """Simulate a system with decreasing stability over time"""
    t = np.linspace(0, duration, 2000)

    # Base oscillation with decreasing damping
    damping = np.ones_like(t)
    damping[t > transition_point] = np.exp(-(t[t > transition_point] - transition_point) * 0.2)

    signal = np.zeros_like(t)
    for i in range(1, len(t)):
        dt = t[i] - t[i-1]
        # Simple damped oscillator with decreasing damping
        signal[i] = signal[i-1] + dt * (np.sin(t[i]) - damping[i] * signal[i-1]) + 0.1 * np.random.randn()

    return t, signal


# Generate transition data
t_trans, trans_signal = simulate_approaching_transition()

plt.figure(figsize=(15, 4))
plt.plot(t_trans, trans_signal, 'darkred', alpha=0.7, linewidth=0.5)
plt.axvline(x=40, color='black', linestyle='--', alpha=0.7, label='Transition Point')
plt.title('System Approaching Critical Transition')
plt.xlabel('Time')
plt.ylabel('Amplitude')
plt.legend()
plt.grid(True, alpha=0.3)
plt.show()

# Analyze the transition using sliding window approach
window_size = 500  # Points per window
step_size = 100    # Overlap between windows

window_times = []
window_depths = []

print("\nPerforming sliding window analysis...")
for start_idx in range(0, len(trans_signal) - window_size, step_size):
    end_idx = start_idx + window_size
    window_data = trans_signal[start_idx:end_idx]

    # Analyze this window
    drr_window = DynamicResonanceRooting(embedding_dim=3, tau=5, sampling_rate=40)
    window_results = drr_window.analyze_system(window_data)

    # Store results
    window_times.append(t_trans[start_idx + window_size//2])  # Middle of window
    avg_depth = np.mean(list(window_results['resonance_depths'].values()))
    window_depths.append(avg_depth)

# Plot resonance depth evolution
plt.figure(figsize=(15, 8))

# Original signal
plt.subplot(2, 1, 1)
plt.plot(t_trans, trans_signal, 'darkred', alpha=0.7, linewidth=0.5)
plt.axvline(x=40, color='black', linestyle='--', alpha=0.7, label='Transition Point')
plt.title('System Signal')
plt.ylabel('Amplitude')
plt.legend()
plt.grid(True, alpha=0.3)

# Resonance depth evolution
plt.subplot(2, 1, 2)
plt.plot(window_times, window_depths, 'blue', marker='o', markersize=4, linewidth=2)
plt.axvline(x=40, color='black', linestyle='--', alpha=0.7, label='Transition Point')
plt.title('Resonance Depth Evolution (Early Warning Signal)')
plt.xlabel('Time')
plt.ylabel('Resonance Depth')
plt.legend()
plt.grid(True, alpha=0.3)

plt.tight_layout()
plt.show()

print(f"\nEarly warning analysis complete.")
# Note: The indices for slicing might need adjustment based on the actual number of windows generated
if len(window_depths) > 8:
    print(f"Average resonance depth before transition: {np.mean(window_depths[:8]):.6f}")
    print(f"Average resonance depth after transition: {np.mean(window_depths[8:]):.6f}")
    if np.mean(window_depths[:8]) != 0:
      print(f"Relative change: {(np.mean(window_depths[8:]) - np.mean(window_depths[:8])) / np.mean(window_depths[:8]) * 100:.1f}%")
else:
    print("Not enough data for before/after transition comparison.")
