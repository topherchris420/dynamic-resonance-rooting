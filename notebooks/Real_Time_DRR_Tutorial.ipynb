{
 "cells": [
  {
   "cell_type": "markdown",
   "metadata": {},
   "source": [
    "# Real-Time DRR and FitzHugh-Nagumo Benchmark Tutorial\n",
    "\n",
    "This notebook demonstrates the new real-time analysis capabilities of the DRR framework and the FitzHugh-Nagumo benchmark system."
   ]
  },
  {
   "cell_type": "code",
   "execution_count": null,
   "metadata": {},
   "outputs": [],
   "source": [
    "# Import required libraries\n",
    "import numpy as np\n",
    "import matplotlib.pyplot as plt\n",
    "from drr_framework.realtime import RealTimeDRR\n",
    "from drr_framework.benchmarks import BenchmarkSystems\n",
    "\n",
    "# Set up a consistent plotting style for the entire notebook\n",
    "plt.style.use('seaborn-v0_8-whitegrid')"
   ]
  },
  {
   "cell_type": "markdown",
   "metadata": {},
   "source": [
    "## 1. Generate FitzHugh-Nagumo Data"
   ]
  },
  {
   "cell_type": "code",
   "execution_count": null,
   "metadata": {},
   "outputs": [],
   "source": [
    "t, fhn_data = BenchmarkSystems.generate_fitzhugh_nagumo_data()\n",
    "plt.figure(figsize=(10, 4))\n",
    "plt.plot(t, fhn_data[:, 0], label='V')\n",
    "plt.plot(t, fhn_data[:, 1], label='w')\n",
    "plt.title('FitzHugh-Nagumo Model')\n",
    "plt.xlabel('Time')\n",
    "plt.ylabel('State')\n",
    "plt.legend()\n",
    "plt.show()"
   ]
  },
  {
   "cell_type": "markdown",
   "metadata": {},
   "source": [
    "## 2. Real-Time Anomaly Detection"
   ]
  },
  {
   "cell_type": "code",
   "execution_count": null,
   "metadata": {},
   "outputs": [],
   "source": [
    "# Initialize the real-time analyzer\n",
    "rt_drr = RealTimeDRR(window_size=100, threshold=0.5)\n",
    "\n",
    "# Simulate real-time data streaming\n",
    "anomalies = []\n",
    "for i, data_point in enumerate(fhn_data[:, 0]):\n",
    "    result = rt_drr.process_data_point(data_point)\n",
    "    if result and result['anomaly']:\n",
    "        anomalies.append(i)\n",
    "\n",
    "# Plot the results\n",
    "plt.figure(figsize=(10, 4))\n",
    "plt.plot(fhn_data[:, 0], label='V')\n",
    "plt.scatter(anomalies, fhn_data[anomalies, 0], color='r', label='Anomalies')\n",
    "plt.title('Real-Time Anomaly Detection in FitzHugh-Nagumo Data')\n",
    "plt.xlabel('Time Step')\n",
    "plt.ylabel('V')\n",
    "plt.legend()\n",
    "plt.show()"
   ]
  }
 ],
 "metadata": {
  "kernelspec": {
   "display_name": "Python 3",
   "language": "python",
   "name": "python3"
  },
  "language_info": {
   "codemirror_mode": {
    "name": "ipython",
    "version": 3
   },
   "file_extension": ".py",
   "mimetype": "text/x-python",
   "name": "python",
   "nbconvert_exporter": "python",
   "pygments_lexer": "ipython3",
   "version": "3.8.5"
  }
 },
 "nbformat": 4,
 "nbformat_minor": 4
}
